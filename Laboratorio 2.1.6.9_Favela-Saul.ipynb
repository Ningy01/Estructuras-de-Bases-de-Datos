{
 "cells": [
  {
   "cell_type": "markdown",
   "metadata": {},
   "source": [
    "# Laboratorio 2.1.6.9\n",
    "#### Saúl Emanuel Favela Hernández"
   ]
  },
  {
   "cell_type": "code",
   "execution_count": 5,
   "metadata": {},
   "outputs": [
    {
     "name": "stdout",
     "output_type": "stream",
     "text": [
      "Ingresa el primer valor para la variable A= 15\n",
      "Ingresa el segundo valor para la variable B= 48.5\n",
      "El resultado de la suma es = 63.5\n",
      "El resultado de la resta es = -33.5\n",
      "El resultado de la multiplicación es = 727.5\n",
      "El resultado de la división es = 0.30927835051546393\n",
      "\n",
      "¡Eso es todo, amigos!\n"
     ]
    }
   ],
   "source": [
    "# ingresa un valor flotante para la variable a aquí\n",
    "a = float(input(\"Ingresa el primer valor para la variable A= \"))\n",
    "# ingresa un valor flotante para la variable b aquí\n",
    "b = float(input(\"Ingresa el segundo valor para la variable B= \"))\n",
    "# muestra el resultado de la suma aquí \n",
    "print(\"El resultado de la suma es =\",a + b)\n",
    "# muestra el resultado de la resta aquí\n",
    "print(\"El resultado de la resta es =\",a - b)\n",
    "# muestra el resultado de la multiplicación aquí\n",
    "print(\"El resultado de la multiplicación es =\",a * b)\n",
    "# muestra el resultado de la división aquí\n",
    "print(\"El resultado de la división es =\",a / b)\n",
    "\n",
    "print(\"\\n¡Eso es todo, amigos!\")"
   ]
  }
 ],
 "metadata": {
  "kernelspec": {
   "display_name": "Python 3",
   "language": "python",
   "name": "python3"
  },
  "language_info": {
   "codemirror_mode": {
    "name": "ipython",
    "version": 3
   },
   "file_extension": ".py",
   "mimetype": "text/x-python",
   "name": "python",
   "nbconvert_exporter": "python",
   "pygments_lexer": "ipython3",
   "version": "3.8.3"
  }
 },
 "nbformat": 4,
 "nbformat_minor": 4
}

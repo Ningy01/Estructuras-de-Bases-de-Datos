{
 "cells": [
  {
   "cell_type": "code",
   "execution_count": 1,
   "metadata": {},
   "outputs": [
    {
     "name": "stdout",
     "output_type": "stream",
     "text": [
      "***********************************\n"
     ]
    }
   ],
   "source": [
    "print(\"***********************************\")\n"
   ]
  },
  {
   "cell_type": "code",
   "execution_count": 3,
   "metadata": {},
   "outputs": [
    {
     "name": "stdout",
     "output_type": "stream",
     "text": [
      "Hola Hola Hola Hola Hola Hola Hola Hola Hola Hola Hola Hola Hola Hola Hola Hola Hola Hola Hola Hola Hola Hola Hola Hola Hola Hola Hola Hola Hola Hola Hola Hola Hola Hola Hola Hola Hola Hola Hola Hola Hola Hola Hola Hola Hola Hola Hola Hola Hola Hola Hola Hola Hola Hola Hola Hola Hola Hola Hola Hola Hola Hola Hola Hola Hola Hola Hola Hola Hola Hola \n"
     ]
    }
   ],
   "source": [
    "print (\"Hola \" * 70)"
   ]
  },
  {
   "cell_type": "code",
   "execution_count": 4,
   "metadata": {},
   "outputs": [
    {
     "name": "stdout",
     "output_type": "stream",
     "text": [
      "6\n",
      "0.6\n"
     ]
    }
   ],
   "source": [
    "#Exponenciación\n",
    "print(2*3)\n",
    "print (2*.3)\n",
    "print(6./3)"
   ]
  },
  {
   "cell_type": "code",
   "execution_count": 5,
   "metadata": {},
   "outputs": [
    {
     "name": "stdout",
     "output_type": "stream",
     "text": [
      "5.0\n"
     ]
    }
   ],
   "source": [
    "print(10/2)"
   ]
  },
  {
   "cell_type": "code",
   "execution_count": null,
   "metadata": {},
   "outputs": [],
   "source": []
  },
  {
   "cell_type": "code",
   "execution_count": 7,
   "metadata": {},
   "outputs": [
    {
     "name": "stdout",
     "output_type": "stream",
     "text": [
      "4.5\n",
      "4\n"
     ]
    }
   ],
   "source": [
    "print(9/2)\n",
    "#División entera\n",
    "print(9//2)"
   ]
  },
  {
   "cell_type": "code",
   "execution_count": 8,
   "metadata": {},
   "outputs": [
    {
     "name": "stdout",
     "output_type": "stream",
     "text": [
      "1\n"
     ]
    }
   ],
   "source": [
    "#Operación del Módulo(residuo)\n",
    "print(9%2)"
   ]
  },
  {
   "cell_type": "code",
   "execution_count": 10,
   "metadata": {},
   "outputs": [
    {
     "name": "stdout",
     "output_type": "stream",
     "text": [
      "17\n",
      "25\n"
     ]
    }
   ],
   "source": [
    "#Operadores y sus prioridades\n",
    "print(2 + 3 * 5)\n",
    "print((2 + 3) * 5)"
   ]
  },
  {
   "cell_type": "code",
   "execution_count": 11,
   "metadata": {},
   "outputs": [
    {
     "name": "stdout",
     "output_type": "stream",
     "text": [
      "256\n"
     ]
    }
   ],
   "source": [
    "#Operadores y sus enlaces\n",
    "print(2 ** 2 ** 3)"
   ]
  },
  {
   "cell_type": "code",
   "execution_count": 12,
   "metadata": {},
   "outputs": [
    {
     "ename": "SyntaxError",
     "evalue": "cannot assign to True (<ipython-input-12-cd027a99ded3>, line 1)",
     "output_type": "error",
     "traceback": [
      "\u001b[1;36m  File \u001b[1;32m\"<ipython-input-12-cd027a99ded3>\"\u001b[1;36m, line \u001b[1;32m1\u001b[0m\n\u001b[1;33m    True=1\u001b[0m\n\u001b[1;37m    ^\u001b[0m\n\u001b[1;31mSyntaxError\u001b[0m\u001b[1;31m:\u001b[0m cannot assign to True\n"
     ]
    }
   ],
   "source": [
    "True=1"
   ]
  },
  {
   "cell_type": "code",
   "execution_count": 14,
   "metadata": {},
   "outputs": [
    {
     "name": "stdout",
     "output_type": "stream",
     "text": [
      "8\n"
     ]
    }
   ],
   "source": [
    "x = 5\n",
    "x = x + 3\n",
    "print(x)"
   ]
  },
  {
   "cell_type": "code",
   "execution_count": 16,
   "metadata": {},
   "outputs": [
    {
     "name": "stdout",
     "output_type": "stream",
     "text": [
      "8\n"
     ]
    }
   ],
   "source": [
    "#Simplificar\n",
    "x = 5\n",
    "x += 3\n",
    "print(x)"
   ]
  },
  {
   "cell_type": "code",
   "execution_count": 18,
   "metadata": {},
   "outputs": [
    {
     "name": "stdout",
     "output_type": "stream",
     "text": [
      "125\n"
     ]
    }
   ],
   "source": [
    "x=5\n",
    "x **=3\n",
    "print(x)"
   ]
  },
  {
   "cell_type": "code",
   "execution_count": null,
   "metadata": {},
   "outputs": [],
   "source": [
    "#comentario de una sola linea\n"
   ]
  },
  {
   "cell_type": "code",
   "execution_count": 1,
   "metadata": {},
   "outputs": [
    {
     "name": "stdout",
     "output_type": "stream",
     "text": [
      "Dime algo...\n",
      "15\n",
      "Mmm... 15 ...¿en serio?\n"
     ]
    }
   ],
   "source": [
    "print(\"Dime algo...\")\n",
    "algo = input()\n",
    "print(\"Mmm...\", algo, \"...¿en serio?\")"
   ]
  },
  {
   "cell_type": "code",
   "execution_count": 2,
   "metadata": {},
   "outputs": [
    {
     "name": "stdout",
     "output_type": "stream",
     "text": [
      "Dame un número para multiplicar10\n",
      "50\n"
     ]
    }
   ],
   "source": [
    "x= int (input (\"Dame un número para multiplicar\"))\n",
    "z = x*5\n",
    "print(z)"
   ]
  },
  {
   "cell_type": "code",
   "execution_count": 3,
   "metadata": {},
   "outputs": [
    {
     "name": "stdout",
     "output_type": "stream",
     "text": [
      "Inserta la longitud del primer cateto: 15\n",
      "Inserta la longitud del segundo cateto 10\n",
      "La longitud de la hipotenusa es:  18.027756377319946\n"
     ]
    }
   ],
   "source": [
    "cateto_a = float(input(\"Inserta la longitud del primer cateto: \"))\n",
    "cateto_b = float(input(\"Inserta la longitud del segundo cateto \"))\n",
    "hipo = (cateto_a**2 + cateto_b**2) ** .5\n",
    "print(\"La longitud de la hipotenusa es: \", hipo)"
   ]
  },
  {
   "cell_type": "code",
   "execution_count": 4,
   "metadata": {},
   "outputs": [
    {
     "name": "stdout",
     "output_type": "stream",
     "text": [
      "¿Me puedes dar tu nombre por favor? Saúl Emanuel\n",
      "¿Me puedes dar tu apellido por favor? Favela\n",
      "Gracias.\n",
      "\n",
      "Tu nombre es Saúl Emanuel Favela.\n"
     ]
    }
   ],
   "source": [
    "nom = input(\"¿Me puedes dar tu nombre por favor? \")\n",
    "ape = input(\"¿Me puedes dar tu apellido por favor? \")\n",
    "print(\"Gracias.\")\n",
    "print(\"\\nTu nombre es \" + nom + \" \" + ape + \".\")"
   ]
  },
  {
   "cell_type": "code",
   "execution_count": 5,
   "metadata": {
    "scrolled": true
   },
   "outputs": [
    {
     "name": "stdout",
     "output_type": "stream",
     "text": [
      "22222\n",
      "10\n"
     ]
    }
   ],
   "source": [
    "#Replicación (multiplicación)\n",
    "print (\"2\"*5)\n",
    "print (2*5)"
   ]
  },
  {
   "cell_type": "code",
   "execution_count": 15,
   "metadata": {},
   "outputs": [
    {
     "name": "stdout",
     "output_type": "stream",
     "text": [
      "Los valores de a y b son iguales\n"
     ]
    }
   ],
   "source": [
    "a= 2000\n",
    "b=2000\n",
    "\n",
    "if b>a:\n",
    "    print (\"b es mayor que a\")\n",
    "    print(\"el valor de b es =\",b)\n",
    "elif a==b:\n",
    "    print(\"Los valores de a y b son iguales\")\n",
    "else:\n",
    "        print(\"a es mayor que b\")\n",
    "        print(\"el valor de a es =\",a)\n",
    "    \n",
    "        "
   ]
  },
  {
   "cell_type": "code",
   "execution_count": 20,
   "metadata": {},
   "outputs": [
    {
     "name": "stdout",
     "output_type": "stream",
     "text": [
      "Y es menor que X\n"
     ]
    }
   ],
   "source": [
    "#if y if...else en version corta o simplificada\n",
    "x = 50\n",
    "y = 30\n",
    "\n",
    "print(\"Y es menor que X\") if x>y else print(\"X es mayor que Y\")"
   ]
  },
  {
   "cell_type": "code",
   "execution_count": 29,
   "metadata": {},
   "outputs": [
    {
     "name": "stdout",
     "output_type": "stream",
     "text": [
      "1\n",
      "2\n",
      "3\n",
      "4\n",
      "5\n",
      "6\n",
      "7\n",
      "8\n",
      "9\n",
      "10\n",
      "Entró al if\n"
     ]
    }
   ],
   "source": [
    "i = 1\n",
    "while i <=10:\n",
    "    print(i)\n",
    "    if i == 10:\n",
    "        print(\"Entró al if\")\n",
    "        \n",
    "        break\n",
    "    i +=1"
   ]
  },
  {
   "cell_type": "code",
   "execution_count": 30,
   "metadata": {},
   "outputs": [
    {
     "name": "stdout",
     "output_type": "stream",
     "text": [
      "\n",
      "+==================================+\n",
      "| Bienvenido a mi juego, muggle!   |\n",
      "| Introduce un número entero       |\n",
      "| y adivina qué número he          |\n",
      "| elegido para ti.                 |\n",
      "| Entonces,                        |\n",
      "| ¿Cuál es el número secreto?      |\n",
      "+==================================+\n",
      "\n"
     ]
    }
   ],
   "source": [
    "print(\n",
    "\"\"\"\n",
    "+==================================+\n",
    "| Bienvenido a mi juego, muggle!   |\n",
    "| Introduce un número entero       |\n",
    "| y adivina qué número he          |\n",
    "| elegido para ti.                 |\n",
    "| Entonces,                        |\n",
    "| ¿Cuál es el número secreto?      |\n",
    "+==================================+\n",
    "\"\"\")\n"
   ]
  },
  {
   "cell_type": "code",
   "execution_count": null,
   "metadata": {},
   "outputs": [],
   "source": []
  }
 ],
 "metadata": {
  "kernelspec": {
   "display_name": "Python 3",
   "language": "python",
   "name": "python3"
  },
  "language_info": {
   "codemirror_mode": {
    "name": "ipython",
    "version": 3
   },
   "file_extension": ".py",
   "mimetype": "text/x-python",
   "name": "python",
   "nbconvert_exporter": "python",
   "pygments_lexer": "ipython3",
   "version": "3.8.3"
  }
 },
 "nbformat": 4,
 "nbformat_minor": 4
}

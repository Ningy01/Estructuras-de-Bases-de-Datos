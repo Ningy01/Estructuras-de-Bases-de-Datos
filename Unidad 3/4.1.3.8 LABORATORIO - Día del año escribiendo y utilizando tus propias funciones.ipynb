{
 "cells": [
  {
   "cell_type": "markdown",
   "metadata": {},
   "source": [
    "# 4.1.3.8 LABORATORIO: Día del año: escribiendo y utilizando tus propias funciones\n",
    "#### Saúl Emanuel Favela Hernández"
   ]
  },
  {
   "cell_type": "code",
   "execution_count": 7,
   "metadata": {},
   "outputs": [
    {
     "name": "stdout",
     "output_type": "stream",
     "text": [
      "366\n"
     ]
    }
   ],
   "source": [
    "def isYearLeap(año):\n",
    "    if año < 1582:\n",
    "        return False\n",
    "    elif año % 4 != 0:\n",
    "        return False\n",
    "    elif año % 100 != 0:\n",
    "        return True\n",
    "    elif año % 400 != 0:\n",
    "        return False\n",
    "    else:\n",
    "        return True\n",
    "\n",
    "def daysInMonth(año, mes):\n",
    "    MonthDays = [31, 28, 31, 30, 31, 30, 31, 31, 30, 31, 30, 31]\n",
    "    if isYearLeap(año) and mes == 2:\n",
    "            return 29\n",
    "    return MonthDays[mes-1]\n",
    "\n",
    "def dayOfYear(año, mes, día):\n",
    "    if año < 1582:\n",
    "        return None\n",
    "    if mes > 12 or mes < 1:\n",
    "        return None\n",
    "    if día > daysInMonth(año, mes) or día < 1:\n",
    "        return None\n",
    "\n",
    "\n",
    "    totalDays = día\n",
    "    mes = mes - 1\n",
    "    while mes > 0:\n",
    "        totalDays += daysInMonth(año, mes)\n",
    "        mes -= 1\n",
    "    return totalDays\n",
    "\n",
    "print(dayOfYear(2000, 12, 31))"
   ]
  }
 ],
 "metadata": {
  "kernelspec": {
   "display_name": "Python 3",
   "language": "python",
   "name": "python3"
  },
  "language_info": {
   "codemirror_mode": {
    "name": "ipython",
    "version": 3
   },
   "file_extension": ".py",
   "mimetype": "text/x-python",
   "name": "python",
   "nbconvert_exporter": "python",
   "pygments_lexer": "ipython3",
   "version": "3.8.3"
  }
 },
 "nbformat": 4,
 "nbformat_minor": 4
}

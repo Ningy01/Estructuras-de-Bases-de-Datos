{
 "cells": [
  {
   "cell_type": "markdown",
   "metadata": {},
   "source": [
    "# Laboratorio 3.1.2.6\n",
    "#### Saúl Emanuel Favela Hernández"
   ]
  },
  {
   "cell_type": "code",
   "execution_count": 10,
   "metadata": {
    "scrolled": true
   },
   "outputs": [
    {
     "name": "stdout",
     "output_type": "stream",
     "text": [
      "1 Mississippi\n",
      "2 Mississippi\n",
      "3 Mississippi\n",
      "4 Mississippi\n",
      "5 Mississippi\n",
      "¡Listo o no, ahí voy!\n"
     ]
    }
   ],
   "source": [
    "import time\n",
    "    # Escribe un ciclo for que cuente hasta cinco.\n",
    "for i in range(1,6):\n",
    "    # Cuerpo del ciclo: imprime el número de iteración del ciclo y la palabra \"Mississippi\".\n",
    "    print(i, \"Mississippi\")\n",
    "    # Cuerpo del ciclo - uso: time.sleep (1)\n",
    "    time.sleep(1)\n",
    "# Escribe una función de impresión con el mensaje final.\n",
    "print(\"¡Listo o no, ahí voy!\")"
   ]
  }
 ],
 "metadata": {
  "kernelspec": {
   "display_name": "Python 3",
   "language": "python",
   "name": "python3"
  },
  "language_info": {
   "codemirror_mode": {
    "name": "ipython",
    "version": 3
   },
   "file_extension": ".py",
   "mimetype": "text/x-python",
   "name": "python",
   "nbconvert_exporter": "python",
   "pygments_lexer": "ipython3",
   "version": "3.8.3"
  }
 },
 "nbformat": 4,
 "nbformat_minor": 4
}

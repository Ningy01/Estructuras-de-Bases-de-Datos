{
 "cells": [
  {
   "cell_type": "markdown",
   "metadata": {},
   "source": [
    "## 5.1.11.9 LABORATORIO: El Dígito de la Vida\n",
    "#### Saúl Emanuel Favela Hernández"
   ]
  },
  {
   "cell_type": "code",
   "execution_count": 3,
   "metadata": {},
   "outputs": [
    {
     "name": "stdout",
     "output_type": "stream",
     "text": [
      "Inserta la fecha de tu cumpleaños (en digitos): 19991229\n",
      "6\n"
     ]
    }
   ],
   "source": [
    "def DigitoDeLaVida(x):\n",
    "    sum = 0\n",
    "    \n",
    "    while x:\n",
    "        sum += x % 10\n",
    "        x //= 10\n",
    "    \n",
    "    if sum > 9:\n",
    "        return DigitoDeLaVida(sum)\n",
    "\n",
    "    return sum\n",
    "\n",
    "x = int(input(\"Inserta la fecha de tu cumpleaños (en digitos): \"))\n",
    "\n",
    "print(DigitoDeLaVida(x))"
   ]
  },
  {
   "cell_type": "code",
   "execution_count": 2,
   "metadata": {},
   "outputs": [
    {
     "name": "stdout",
     "output_type": "stream",
     "text": [
      "Inserta la fecha de tu cumpleaños (en digitos): 20000101\n",
      "4\n"
     ]
    }
   ],
   "source": [
    "def DigitoDeLaVida(x):\n",
    "    suma = 0\n",
    "    while x:\n",
    "        suma += x % 10\n",
    "        x //= 10\n",
    "    \n",
    "    if suma > 9:\n",
    "        return DigitoDeLaVida(suma)\n",
    "\n",
    "    return suma\n",
    "\n",
    "x = int(input(\"Inserta la fecha de tu cumpleaños (en digitos): \"))\n",
    "\n",
    "print(DigitoDeLaVida(x))"
   ]
  }
 ],
 "metadata": {
  "kernelspec": {
   "display_name": "Python 3",
   "language": "python",
   "name": "python3"
  },
  "language_info": {
   "codemirror_mode": {
    "name": "ipython",
    "version": 3
   },
   "file_extension": ".py",
   "mimetype": "text/x-python",
   "name": "python",
   "nbconvert_exporter": "python",
   "pygments_lexer": "ipython3",
   "version": "3.8.3"
  }
 },
 "nbformat": 4,
 "nbformat_minor": 4
}

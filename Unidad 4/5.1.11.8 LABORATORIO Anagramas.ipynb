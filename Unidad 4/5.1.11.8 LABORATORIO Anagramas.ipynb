{
 "cells": [
  {
   "cell_type": "markdown",
   "metadata": {},
   "source": [
    "## 5.1.11.8 LABORATORIO: Anagramas\n",
    "#### Saúl Emanuel Favela Hernández"
   ]
  },
  {
   "cell_type": "code",
   "execution_count": 2,
   "metadata": {},
   "outputs": [
    {
     "name": "stdout",
     "output_type": "stream",
     "text": [
      "Ingresa una palabra: Listen\n",
      "Ingresa otra palabra: Silent\n",
      "Es un anagrama\n"
     ]
    }
   ],
   "source": [
    "palabra1 = input(\"Ingresa una palabra: \")\n",
    "palabra1 = palabra1.lower()\n",
    "palabra2 = input(\"Ingresa otra palabra: \")\n",
    "palabra2 = palabra2.lower()\n",
    "\n",
    "str1 = sorted(palabra1)\n",
    "str2 = sorted(palabra2)\n",
    "\n",
    "if str1 == str2:\n",
    "    print(\"Es un anagrama\")\n",
    "else:\n",
    "    print(\"No es un anagrama\")"
   ]
  },
  {
   "cell_type": "code",
   "execution_count": 3,
   "metadata": {},
   "outputs": [
    {
     "name": "stdout",
     "output_type": "stream",
     "text": [
      "Ingresa una palabra: modern\n",
      "Ingresa otra palabra: norman\n",
      "No es un anagrama\n"
     ]
    }
   ],
   "source": [
    "palabra1 = input(\"Ingresa una palabra: \")\n",
    "palabra1 = palabra1.lower()\n",
    "palabra2 = input(\"Ingresa otra palabra: \")\n",
    "palabra2 = palabra2.lower()\n",
    "\n",
    "str1 = sorted(palabra1)\n",
    "str2 = sorted(palabra2)\n",
    "\n",
    "if str1 == str2:\n",
    "    print(\"Es un anagrama\")\n",
    "else:\n",
    "    print(\"No es un anagrama\")"
   ]
  }
 ],
 "metadata": {
  "kernelspec": {
   "display_name": "Python 3",
   "language": "python",
   "name": "python3"
  },
  "language_info": {
   "codemirror_mode": {
    "name": "ipython",
    "version": 3
   },
   "file_extension": ".py",
   "mimetype": "text/x-python",
   "name": "python",
   "nbconvert_exporter": "python",
   "pygments_lexer": "ipython3",
   "version": "3.8.3"
  }
 },
 "nbformat": 4,
 "nbformat_minor": 4
}

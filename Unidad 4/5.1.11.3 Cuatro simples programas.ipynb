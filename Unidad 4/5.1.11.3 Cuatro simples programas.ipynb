{
 "cells": [
  {
   "cell_type": "markdown",
   "metadata": {},
   "source": [
    "## 5.1.11.3 Cuatro simples programas\n",
    "#### Saúl Emanuel Favela Hernández"
   ]
  },
  {
   "cell_type": "code",
   "execution_count": 2,
   "metadata": {},
   "outputs": [
    {
     "name": "stdout",
     "output_type": "stream",
     "text": [
      "Ingresa una línea de números, sepáralos con espacios: 15 14 12 16\n",
      "El total es: 57.0\n"
     ]
    }
   ],
   "source": [
    "#Procesador de números\n",
    "# permite ingresar una línea llena de números y sumarlos fácilmente.\n",
    "\n",
    "linea = input(\"Ingresa una línea de números, sepáralos con espacios: \") # pide al usuario que ingrese una línea llena de cualquier cantidad de números\n",
    "strings = linea.split() # divide la línea en una lista con subcadenas.\n",
    "total = 0 # se inicializa la suma total a cero.\n",
    "try: # como la conversión de cadena a flotante puede generar una excepción, es mejor continuar con la protección del bloque try-except.\n",
    "    for substr in strings: # itera a través de la lista...\n",
    "        total += float(substr) # ...e intenta convertir todos sus elementos en números flotantes; si funciona, aumenta la suma.\n",
    "    print(\"El total es:\", total) #todo está bien hasta ahora, así que imprime la suma.\n",
    "except: # el programa termina aquí en caso de error.\n",
    "    print(substr, \"no es un numero.\") #imprime un mensaje de diagnóstico que muestra al usuario el motivo del error."
   ]
  }
 ],
 "metadata": {
  "kernelspec": {
   "display_name": "Python 3",
   "language": "python",
   "name": "python3"
  },
  "language_info": {
   "codemirror_mode": {
    "name": "ipython",
    "version": 3
   },
   "file_extension": ".py",
   "mimetype": "text/x-python",
   "name": "python",
   "nbconvert_exporter": "python",
   "pygments_lexer": "ipython3",
   "version": "3.8.3"
  }
 },
 "nbformat": 4,
 "nbformat_minor": 4
}

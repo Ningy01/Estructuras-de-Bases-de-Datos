{
 "cells": [
  {
   "cell_type": "markdown",
   "metadata": {},
   "source": [
    "## 5.1.8.2 La naturaleza de las cadenas en Python\n",
    "#### Saúl Emanuel Favela Hernández"
   ]
  },
  {
   "cell_type": "code",
   "execution_count": 1,
   "metadata": {},
   "outputs": [
    {
     "name": "stdout",
     "output_type": "stream",
     "text": [
      "17\n"
     ]
    }
   ],
   "source": [
    "# hay un caracter invisible: el espacio en blanco\n",
    "multiLinea = '''Linea #1\n",
    "Linea #2'''\n",
    "\n",
    "print(len(multiLinea))"
   ]
  },
  {
   "cell_type": "code",
   "execution_count": 2,
   "metadata": {},
   "outputs": [
    {
     "name": "stdout",
     "output_type": "stream",
     "text": [
      "17\n"
     ]
    }
   ],
   "source": [
    "# Las cadenas multilínea pueden ser delimitadas también por comillas triples\n",
    "multiLinea = \"\"\"Linea #1\n",
    "Linea #2\"\"\"\n",
    "\n",
    "print(len(multiLinea))"
   ]
  }
 ],
 "metadata": {
  "kernelspec": {
   "display_name": "Python 3",
   "language": "python",
   "name": "python3"
  },
  "language_info": {
   "codemirror_mode": {
    "name": "ipython",
    "version": 3
   },
   "file_extension": ".py",
   "mimetype": "text/x-python",
   "name": "python",
   "nbconvert_exporter": "python",
   "pygments_lexer": "ipython3",
   "version": "3.8.3"
  }
 },
 "nbformat": 4,
 "nbformat_minor": 4
}

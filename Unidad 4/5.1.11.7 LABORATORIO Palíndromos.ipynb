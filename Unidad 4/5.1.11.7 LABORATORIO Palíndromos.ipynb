{
 "cells": [
  {
   "cell_type": "markdown",
   "metadata": {},
   "source": [
    "## 5.1.11.7 LABORATORIO: Palíndromos\n",
    "#### Saúl Emanuel Favela Hernández"
   ]
  },
  {
   "cell_type": "code",
   "execution_count": 1,
   "metadata": {},
   "outputs": [
    {
     "name": "stdout",
     "output_type": "stream",
     "text": [
      "Escribe un texto: Ten animals I slam in a net\n",
      "Es un palíndromo.\n"
     ]
    }
   ],
   "source": [
    "miString = input(\"Escribe un texto: \")\n",
    "miString = miString.casefold()          # Se eliminan los espacios\n",
    "miString = miString.replace(\" \", \"\")    # Se convierte todo en minúsculas\n",
    "\n",
    "stringInv = reversed(miString)          # El sentido del texto se invierte\n",
    "\n",
    "if list(miString) == list(stringInv):   # Finalmente, se comprueba si es o no es un palíndromo\n",
    "    print(\"Es un palíndromo.\")\n",
    "else:\n",
    "    print(\"No es un palíndromo.\")"
   ]
  },
  {
   "cell_type": "code",
   "execution_count": 2,
   "metadata": {},
   "outputs": [
    {
     "name": "stdout",
     "output_type": "stream",
     "text": [
      "Escribe un texto: Eleven animals I slam in a net\n",
      "No es un palíndromo.\n"
     ]
    }
   ],
   "source": [
    "miString = input(\"Escribe un texto: \")\n",
    "miString = miString.casefold()          # Se eliminan los espacios\n",
    "miString = miString.replace(\" \", \"\")    # Se convierte todo en minúsculas\n",
    "\n",
    "stringInv = reversed(miString)          # El sentido del texto se invierte\n",
    "\n",
    "if list(miString) == list(stringInv):   # Finalmente, se comprueba si es o no es un palíndromo\n",
    "    print(\"Es un palíndromo.\")\n",
    "else:\n",
    "    print(\"No es un palíndromo.\")"
   ]
  }
 ],
 "metadata": {
  "kernelspec": {
   "display_name": "Python 3",
   "language": "python",
   "name": "python3"
  },
  "language_info": {
   "codemirror_mode": {
    "name": "ipython",
    "version": 3
   },
   "file_extension": ".py",
   "mimetype": "text/x-python",
   "name": "python",
   "nbconvert_exporter": "python",
   "pygments_lexer": "ipython3",
   "version": "3.8.3"
  }
 },
 "nbformat": 4,
 "nbformat_minor": 4
}

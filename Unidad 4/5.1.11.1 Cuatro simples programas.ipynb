{
 "cells": [
  {
   "cell_type": "markdown",
   "metadata": {},
   "source": [
    "## 5.1.11.1 Cuatro simples programas\n",
    "#### Saúl Emanuel Favela Hernández"
   ]
  },
  {
   "cell_type": "code",
   "execution_count": 1,
   "metadata": {},
   "outputs": [
    {
     "name": "stdout",
     "output_type": "stream",
     "text": [
      "Ingresa tu mensaje: AVE CAESAR\n",
      "BWFDBFTBS\n"
     ]
    }
   ],
   "source": [
    "# Cifrado César\n",
    "# cada letra del mensaje se reemplaza por su consecuente más cercano \n",
    "# (A se convierte en B, B se convierte en C, y así sucesivamente).\n",
    "\n",
    "\n",
    "text = input(\"Ingresa tu mensaje: \") # pide al usuario que ingrese un mensaje (sin cifrar) de una línea.\n",
    "cifrado = '' # prepara una cadena para el mensaje cifrado (esta vacía por ahora).\n",
    "for char in text: # inicia la iteración a través del mensaje.\n",
    "    if not char.isalpha(): # si el caracter actual no es alfabético...\n",
    "        continue # ...ignoralo.\n",
    "    char = char.upper() # convierta la letra a mayúsculas\n",
    "    code = ord(char) + 1 # obtén el código de la letra e increméntalo en uno.\n",
    "    if code > ord('Z'): # si el código resultante ha \"dejado\" el alfabeto latino\n",
    "        code = ord('A') #  ...cámbialo al código de la A.\n",
    "    cifrado += chr(code) # agrega el carácter recibido al final del mensaje cifrado.\n",
    "\n",
    "print(cifrado) # imprime el cifrado."
   ]
  }
 ],
 "metadata": {
  "kernelspec": {
   "display_name": "Python 3",
   "language": "python",
   "name": "python3"
  },
  "language_info": {
   "codemirror_mode": {
    "name": "ipython",
    "version": 3
   },
   "file_extension": ".py",
   "mimetype": "text/x-python",
   "name": "python",
   "nbconvert_exporter": "python",
   "pygments_lexer": "ipython3",
   "version": "3.8.3"
  }
 },
 "nbformat": 4,
 "nbformat_minor": 4
}

{
 "cells": [
  {
   "cell_type": "markdown",
   "metadata": {},
   "source": [
    "## 5.1.11.4 Cuatro simples programas\n",
    "#### Saúl Emanuel Favela Hernández"
   ]
  },
  {
   "cell_type": "code",
   "execution_count": 1,
   "metadata": {},
   "outputs": [
    {
     "name": "stdout",
     "output_type": "stream",
     "text": [
      "Ingresa IBAN, por favor: GB72 HBZU 7006 7212 1253 00\n",
      "El IBAN ingresado es válido.\n"
     ]
    }
   ],
   "source": [
    "# Validador IBAN\n",
    "\n",
    "iban = input(\"Ingresa IBAN, por favor: \") #pide al usuario que ingrese el IBAN \n",
    "iban = iban.replace(' ','') #...pero remueve los espacios de inmediato).\n",
    "if not iban.isalnum(): # el IBAN ingresado debe constar solo de dígitos y letras, de lo contrario...\n",
    "    print(\"Has introducido caracteres no válidos.\") #  ...muestra un mensaje.\n",
    "elif len(iban) < 15: # el IBAN no debe tener menos de 15 caracteres\n",
    "    print(\"El IBAN ingresado es demasiado corto.\") # si es  más corto, se informa al usuario.\n",
    "elif len(iban) > 31: # además, el IBAN no puede tener más de 31 caracteres\n",
    "    print(\"El IBAN ingresado es demasiado largo.\") # si es más largo, se le informa al usuario.\n",
    "else: # se comienza con el procesamiento.\n",
    "    iban = (iban[4:] + iban[0:4]).upper() # se mueven los cuatro caracteres iniciales al final del número y se convierten todas las letras a mayúsculas\n",
    "    iban2 = '' # esta es la variable utilizada para completar el número, creada al reemplazar las letras con dígitos\n",
    "    for ch in iban: # iterar a través del IBAN.\n",
    "        if ch.isdigit(): # si el caracter es un digito...\n",
    "            iban2 += ch # se copia.\n",
    "        else: # de lo contrario...\n",
    "            iban2 += str(10 + ord(ch) - ord('A')) # ...conviértelo en dos dígitos (observa cómo se hace aquí).\n",
    "    ibann = int(iban2) # la forma convertida del IBAN está lista: ahora se convierte en un número entero.\n",
    "    if ibann % 97 == 1: # ¿el residuo de la división de iban2 entre 97 es igual a 1?\n",
    "        print(\"El IBAN ingresado es válido.\") # si es así, entonces el número es correcto.\n",
    "    else: # de lo contrario...\n",
    "        print(\"El IBAN ingresado no es válido.\") # ...el número no es válido."
   ]
  },
  {
   "cell_type": "code",
   "execution_count": 2,
   "metadata": {},
   "outputs": [
    {
     "name": "stdout",
     "output_type": "stream",
     "text": [
      "Ingresa IBAN, por favor: FR76 30003 03620 00020216907 50\n",
      "El IBAN ingresado es válido.\n"
     ]
    }
   ],
   "source": [
    "iban = input(\"Ingresa IBAN, por favor: \")\n",
    "iban = iban.replace(' ','')\n",
    "if not iban.isalnum():\n",
    "    print(\"Has introducido caracteres no válidos.\")\n",
    "elif len(iban) < 15:\n",
    "    print(\"El IBAN ingresado es demasiado corto.\")\n",
    "elif len(iban) > 31:\n",
    "    print(\"El IBAN ingresado es demasiado largo.\")\n",
    "else:\n",
    "    iban = (iban[4:] + iban[0:4]).upper()\n",
    "    iban2 = ''\n",
    "    for ch in iban:\n",
    "        if ch.isdigit():\n",
    "            iban2 += ch\n",
    "        else:\n",
    "            iban2 += str(10 + ord(ch) - ord('A'))\n",
    "    ibann = int(iban2)\n",
    "    if ibann % 97 == 1:\n",
    "        print(\"El IBAN ingresado es válido.\")\n",
    "    else:\n",
    "        print(\"El IBAN ingresado no es válido.\")"
   ]
  }
 ],
 "metadata": {
  "kernelspec": {
   "display_name": "Python 3",
   "language": "python",
   "name": "python3"
  },
  "language_info": {
   "codemirror_mode": {
    "name": "ipython",
    "version": 3
   },
   "file_extension": ".py",
   "mimetype": "text/x-python",
   "name": "python",
   "nbconvert_exporter": "python",
   "pygments_lexer": "ipython3",
   "version": "3.8.3"
  }
 },
 "nbformat": 4,
 "nbformat_minor": 4
}

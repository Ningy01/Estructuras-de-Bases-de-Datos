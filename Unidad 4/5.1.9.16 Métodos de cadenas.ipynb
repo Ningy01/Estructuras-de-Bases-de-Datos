{
 "cells": [
  {
   "cell_type": "markdown",
   "metadata": {},
   "source": [
    "## 5.1.9.16 Métodos de cadenas\n",
    "#### Saúl Emanuel Favela Hernández"
   ]
  },
  {
   "cell_type": "code",
   "execution_count": 2,
   "metadata": {},
   "outputs": [
    {
     "name": "stdout",
     "output_type": "stream",
     "text": [
      "yO SÉ QUE NO SÉ NADA.\n"
     ]
    }
   ],
   "source": [
    "# Demostración del método swapcase()\n",
    "# crea una nueva cadena intercambiando todas las letras por mayúsculas o minúsculas dentro de la cadena original:\n",
    "print(\"Yo sé que no sé nada.\".swapcase())"
   ]
  },
  {
   "cell_type": "code",
   "execution_count": 3,
   "metadata": {},
   "outputs": [
    {
     "name": "stdout",
     "output_type": "stream",
     "text": [
      "esto VA a fAllAR\n"
     ]
    }
   ],
   "source": [
    "print(\"ESTO va A FaLLar\".swapcase())"
   ]
  },
  {
   "cell_type": "code",
   "execution_count": 5,
   "metadata": {},
   "outputs": [
    {
     "name": "stdout",
     "output_type": "stream",
     "text": [
      "mayuscula MINUSCULA\n"
     ]
    }
   ],
   "source": [
    "print(\"MAYUSCULA minuscula\".swapcase())"
   ]
  },
  {
   "cell_type": "code",
   "execution_count": 6,
   "metadata": {},
   "outputs": [
    {
     "name": "stdout",
     "output_type": "stream",
     "text": [
      "Yo Sé Que No Sé Nada. Parte 1.\n"
     ]
    }
   ],
   "source": [
    "# Demostración del método title()\n",
    "# cambia la primera letra de cada palabra a mayúsculas, convirtiendo todas las demás a minúsculas\n",
    "print(\"Yo sé que no sé nada. Parte 1.\".title())"
   ]
  },
  {
   "cell_type": "code",
   "execution_count": 7,
   "metadata": {},
   "outputs": [
    {
     "name": "stdout",
     "output_type": "stream",
     "text": [
      "Esto Es Impresionante.\n"
     ]
    }
   ],
   "source": [
    "print(\"ESTO es IMPRESIONante.\".title())"
   ]
  },
  {
   "cell_type": "code",
   "execution_count": 8,
   "metadata": {},
   "outputs": [
    {
     "name": "stdout",
     "output_type": "stream",
     "text": [
      "Ya Veremos Si Esto Es Real\n"
     ]
    }
   ],
   "source": [
    "print(\"Ya VeReMOS sI esto Es REAL\".title())"
   ]
  },
  {
   "cell_type": "code",
   "execution_count": 9,
   "metadata": {},
   "outputs": [
    {
     "name": "stdout",
     "output_type": "stream",
     "text": [
      "YO SÉ QUE NO SÉ NADA. PARTE 2.\n"
     ]
    }
   ],
   "source": [
    "# Demostración del método upper()\n",
    "# hace una copia de la cadena de origen, reemplaza todas las letras minúsculas con sus equivalentes en mayúsculas\n",
    "print(\"Yo sé que no sé nada. Parte 2.\".upper())"
   ]
  },
  {
   "cell_type": "code",
   "execution_count": 10,
   "metadata": {},
   "outputs": [
    {
     "name": "stdout",
     "output_type": "stream",
     "text": [
      "TODO EN MAYUSCULA\n"
     ]
    }
   ],
   "source": [
    "print(\"todo en mayuscula\".upper())"
   ]
  }
 ],
 "metadata": {
  "kernelspec": {
   "display_name": "Python 3",
   "language": "python",
   "name": "python3"
  },
  "language_info": {
   "codemirror_mode": {
    "name": "ipython",
    "version": 3
   },
   "file_extension": ".py",
   "mimetype": "text/x-python",
   "name": "python",
   "nbconvert_exporter": "python",
   "pygments_lexer": "ipython3",
   "version": "3.8.3"
  }
 },
 "nbformat": 4,
 "nbformat_minor": 4
}

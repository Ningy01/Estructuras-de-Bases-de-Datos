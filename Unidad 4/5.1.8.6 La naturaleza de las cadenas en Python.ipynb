{
 "cells": [
  {
   "cell_type": "markdown",
   "metadata": {},
   "source": [
    "## 5.1.8.6 La naturaleza de las cadenas en Python\n",
    "#### Saúl Emanuel Favela Hernández"
   ]
  },
  {
   "cell_type": "code",
   "execution_count": 1,
   "metadata": {},
   "outputs": [
    {
     "name": "stdout",
     "output_type": "stream",
     "text": [
      "s i l l y   w a l k s \n"
     ]
    }
   ],
   "source": [
    "# Indexando cadenas\n",
    "# Si deseas acceder a cualquiera de los caracteres \n",
    "# de una cadena, puedes hacerlo usando indexación\n",
    "\n",
    "exampleString = 'silly walks'\n",
    "\n",
    "for ix in range(len(exampleString)):\n",
    "    print(exampleString[ix], end=' ')\n",
    "\n",
    "print()"
   ]
  },
  {
   "cell_type": "code",
   "execution_count": 2,
   "metadata": {},
   "outputs": [
    {
     "name": "stdout",
     "output_type": "stream",
     "text": [
      "s i l l y   w a l k s \n"
     ]
    }
   ],
   "source": [
    "# Iterando a través de una cadena\n",
    "# Iterar a través de las cadenas funciona también\n",
    "\n",
    "exampleString = 'silly walks'\n",
    "\n",
    "for ch in exampleString:\n",
    "    print(ch, end=' ')\n",
    "\n",
    "print()"
   ]
  }
 ],
 "metadata": {
  "kernelspec": {
   "display_name": "Python 3",
   "language": "python",
   "name": "python3"
  },
  "language_info": {
   "codemirror_mode": {
    "name": "ipython",
    "version": 3
   },
   "file_extension": ".py",
   "mimetype": "text/x-python",
   "name": "python",
   "nbconvert_exporter": "python",
   "pygments_lexer": "ipython3",
   "version": "3.8.3"
  }
 },
 "nbformat": 4,
 "nbformat_minor": 4
}

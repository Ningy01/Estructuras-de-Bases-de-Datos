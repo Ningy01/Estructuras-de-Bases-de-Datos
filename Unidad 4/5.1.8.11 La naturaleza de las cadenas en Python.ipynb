{
 "cells": [
  {
   "cell_type": "markdown",
   "metadata": {},
   "source": [
    "## 5.1.8.11 La naturaleza de las cadenas en Python\n",
    "#### Saúl Emanuel Favela Hernández"
   ]
  },
  {
   "cell_type": "code",
   "execution_count": 2,
   "metadata": {},
   "outputs": [
    {
     "name": "stdout",
     "output_type": "stream",
     "text": [
      "A\n"
     ]
    }
   ],
   "source": [
    "# Demonstrando min() - Ejemplo 1\n",
    "# Esta función encuentra el elemento mínimo de la secuencia pasada como argumento.\n",
    "# Existe una condición - la secuencia (cadena o lista) no puede estar vacía\n",
    "\n",
    "print(min(\"aAbByYzZ\"))"
   ]
  },
  {
   "cell_type": "code",
   "execution_count": 3,
   "metadata": {},
   "outputs": [
    {
     "name": "stdout",
     "output_type": "stream",
     "text": [
      "[ ]\n",
      "0\n"
     ]
    }
   ],
   "source": [
    "# Demonstrando min() - Examplos 2 y 3\n",
    "t = 'Los Caballeros Que Dicen \"¡Ni!\"'\n",
    "print('[' + min(t) + ']')\n",
    "\n",
    "t = [0, 1, 2]\n",
    "print(min(t))"
   ]
  }
 ],
 "metadata": {
  "kernelspec": {
   "display_name": "Python 3",
   "language": "python",
   "name": "python3"
  },
  "language_info": {
   "codemirror_mode": {
    "name": "ipython",
    "version": 3
   },
   "file_extension": ".py",
   "mimetype": "text/x-python",
   "name": "python",
   "nbconvert_exporter": "python",
   "pygments_lexer": "ipython3",
   "version": "3.8.3"
  }
 },
 "nbformat": 4,
 "nbformat_minor": 4
}

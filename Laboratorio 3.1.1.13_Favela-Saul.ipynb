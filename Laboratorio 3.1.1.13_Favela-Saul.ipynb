{
 "cells": [
  {
   "cell_type": "markdown",
   "metadata": {},
   "source": [
    "# Laboratorio 3.1.1.13\n",
    "#### Saúl Emanuel Favela Hernández"
   ]
  },
  {
   "cell_type": "code",
   "execution_count": 1,
   "metadata": {},
   "outputs": [
    {
     "name": "stdout",
     "output_type": "stream",
     "text": [
      "Introduzca un año:1996\n",
      "1996 es un año bisiesto, dado que no es divisible entre 100\n"
     ]
    }
   ],
   "source": [
    "año = int(input(\"Introduzca un año:\"))\n",
    "\n",
    "if año < 1582:\n",
    "    print(\"No dentro del período del calendario gregoriano\")\n",
    "elif año%4 != 0:\n",
    "    print(año, \"es un año común, dado que no es divisible 4\")\n",
    "elif año%100 != 0:\n",
    "    print(año, \"es un año bisiesto, dado que no es divisible entre 100\")\n",
    "elif año%400 != 0:\n",
    "    print(año, \"es un año común, dado que no es divisible entre 400\")\n",
    "else:\n",
    "    print(año, \"es un año bisiesto\")"
   ]
  }
 ],
 "metadata": {
  "kernelspec": {
   "display_name": "Python 3",
   "language": "python",
   "name": "python3"
  },
  "language_info": {
   "codemirror_mode": {
    "name": "ipython",
    "version": 3
   },
   "file_extension": ".py",
   "mimetype": "text/x-python",
   "name": "python",
   "nbconvert_exporter": "python",
   "pygments_lexer": "ipython3",
   "version": "3.8.3"
  }
 },
 "nbformat": 4,
 "nbformat_minor": 4
}

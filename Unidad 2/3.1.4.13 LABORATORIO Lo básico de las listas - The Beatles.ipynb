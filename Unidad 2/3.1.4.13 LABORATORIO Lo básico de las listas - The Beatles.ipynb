{
 "cells": [
  {
   "cell_type": "code",
   "execution_count": 1,
   "metadata": {},
   "outputs": [
    {
     "name": "stdout",
     "output_type": "stream",
     "text": [
      "Paso 1\n",
      "[] \n",
      "\n",
      "Paso 2:\n",
      "['John Lennon', 'Paul McCartney', 'George Harrison'] \n",
      "\n",
      "Paso 3:\n",
      "Agrega a los siguientes miembros a la lista:\n",
      "Stu Sutcliffe\n",
      "Pete Best\n",
      "Stu Sutcliffe\n",
      "Pete Best\n",
      "['John Lennon', 'Paul McCartney', 'George Harrison', 'Stu Sutcliffe', 'Pete Best'] \n",
      "\n",
      "Paso 4:\n",
      "['John Lennon', 'Paul McCartney', 'George Harrison'] \n",
      "\n",
      "Paso 5:\n",
      "['Ringo Starr', 'John Lennon', 'Paul McCartney', 'George Harrison'] \n",
      "\n",
      "Los Fab 4\n"
     ]
    }
   ],
   "source": [
    "# paso 1\n",
    "print(\"Paso 1\")\n",
    "beatles = [ ]\n",
    "print(beatles,\"\\n\")\n",
    "# paso 2\n",
    "print(\"Paso 2:\")\n",
    "beatles.append (\"John Lennon\")\n",
    "beatles.append (\"Paul McCartney\")\n",
    "beatles.append (\"George Harrison\")\n",
    "print(beatles,\"\\n\")\n",
    "\n",
    "# paso 3\n",
    "print(\"Paso 3:\")\n",
    "print(\"Agrega a los siguientes miembros a la lista:\")\n",
    "print(\"Stu Sutcliffe\")\n",
    "print(\"Pete Best\")\n",
    "for i in range (2):\n",
    "  beatles.append (input())\n",
    "\n",
    "print(beatles,\"\\n\")\n",
    "\n",
    "# etapa 4\n",
    "print(\"Paso 4:\")\n",
    "del beatles [3:5]\n",
    "print(beatles,\"\\n\")\n",
    "\n",
    "# paso 5\n",
    "print(\"Paso 5:\")\n",
    "for i in range(1):\n",
    "   beatles.insert(0,\"Ringo Starr\")\n",
    "\n",
    "print(beatles,\"\\n\")\n",
    "# probando la longitud de la lista\n",
    "print(\"Los Fab\", len(beatles))"
   ]
  }
 ],
 "metadata": {
  "kernelspec": {
   "display_name": "Python 3",
   "language": "python",
   "name": "python3"
  },
  "language_info": {
   "codemirror_mode": {
    "name": "ipython",
    "version": 3
   },
   "file_extension": ".py",
   "mimetype": "text/x-python",
   "name": "python",
   "nbconvert_exporter": "python",
   "pygments_lexer": "ipython3",
   "version": "3.8.3"
  }
 },
 "nbformat": 4,
 "nbformat_minor": 4
}

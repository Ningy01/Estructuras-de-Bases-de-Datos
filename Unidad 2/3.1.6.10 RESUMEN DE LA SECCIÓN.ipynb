{
 "cells": [
  {
   "cell_type": "markdown",
   "metadata": {},
   "source": [
    "# Ejercicio 3.1.6.10"
   ]
  },
  {
   "cell_type": "code",
   "execution_count": 3,
   "metadata": {},
   "outputs": [
    {
     "name": "stdout",
     "output_type": "stream",
     "text": [
      "['C']\n"
     ]
    }
   ],
   "source": [
    "# Ejercicio 1\n",
    "\n",
    "l1 = [\"A\", \"B\", \"C\"]\n",
    "l2 = l1\n",
    "l3 = l2\n",
    "\n",
    "del l1[0]\n",
    "del l2[0]\n",
    "\n",
    "print(l3)"
   ]
  },
  {
   "cell_type": "code",
   "execution_count": 4,
   "metadata": {},
   "outputs": [
    {
     "name": "stdout",
     "output_type": "stream",
     "text": [
      "['B', 'C']\n"
     ]
    }
   ],
   "source": [
    "# Ejercicio 2\n",
    "\n",
    "l1 = [\"A\", \"B\", \"C\"]\n",
    "l2 = l1\n",
    "l3 = l2\n",
    "\n",
    "del l1[0]\n",
    "del l2\n",
    "\n",
    "print(l3)"
   ]
  },
  {
   "cell_type": "code",
   "execution_count": 5,
   "metadata": {},
   "outputs": [
    {
     "name": "stdout",
     "output_type": "stream",
     "text": [
      "[]\n"
     ]
    }
   ],
   "source": [
    "# Ejercicio 3\n",
    "\n",
    "l1 = [\"A\", \"B\", \"C\"]\n",
    "l2 = l1\n",
    "l3 = l2\n",
    "\n",
    "del l1[0]\n",
    "del l2[:]\n",
    "\n",
    "print(l3)"
   ]
  },
  {
   "cell_type": "code",
   "execution_count": 6,
   "metadata": {},
   "outputs": [
    {
     "name": "stdout",
     "output_type": "stream",
     "text": [
      "['A', 'B', 'C']\n"
     ]
    }
   ],
   "source": [
    "# Ejercicio 4\n",
    "\n",
    "l1 = [\"A\", \"B\", \"C\"]\n",
    "l2 = l1[:]\n",
    "l3 = l2[:]\n",
    "\n",
    "del l1[0]\n",
    "del l2[0]\n",
    "\n",
    "print(l3)"
   ]
  },
  {
   "cell_type": "code",
   "execution_count": 8,
   "metadata": {},
   "outputs": [
    {
     "name": "stdout",
     "output_type": "stream",
     "text": [
      "True\n",
      "True\n",
      "True\n",
      "False\n"
     ]
    }
   ],
   "source": [
    "# Ejercicio 5\n",
    "\n",
    "miLista = [1, 2, \"in\", True, \"ABC\"]\n",
    "\n",
    "print(1 in miLista) # salidas True\n",
    "print(\"A\" not in miLista) # salida True\n",
    "print(3 not in miLista) # salida True\n",
    "print(False in miLista) # salida False"
   ]
  }
 ],
 "metadata": {
  "kernelspec": {
   "display_name": "Python 3",
   "language": "python",
   "name": "python3"
  },
  "language_info": {
   "codemirror_mode": {
    "name": "ipython",
    "version": 3
   },
   "file_extension": ".py",
   "mimetype": "text/x-python",
   "name": "python",
   "nbconvert_exporter": "python",
   "pygments_lexer": "ipython3",
   "version": "3.8.3"
  }
 },
 "nbformat": 4,
 "nbformat_minor": 4
}

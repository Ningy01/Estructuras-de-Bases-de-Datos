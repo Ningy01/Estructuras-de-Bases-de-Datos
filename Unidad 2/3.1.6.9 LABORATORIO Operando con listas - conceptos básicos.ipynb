{
 "cells": [
  {
   "cell_type": "markdown",
   "metadata": {},
   "source": [
    "# 3.1.6.9 LABORATORIO: Operando con listas - conceptos básicos\n",
    "\n",
    "#### Saúl Emanuel Favela Hernández"
   ]
  },
  {
   "cell_type": "code",
   "execution_count": 3,
   "metadata": {},
   "outputs": [
    {
     "name": "stdout",
     "output_type": "stream",
     "text": [
      "La lista solo con elementos únicos:\n",
      "[1, 2, 4, 6, 9]\n"
     ]
    }
   ],
   "source": [
    "miLista = [1, 2, 4, 4, 1, 4, 2, 6, 2, 9]\n",
    "\n",
    "for i in range(len(miLista)-1, -1, -1):\n",
    "        if miLista[i] in miLista[:i]:\n",
    "            del(miLista[i])\n",
    "\n",
    "print(\"La lista solo con elementos únicos:\")\n",
    "print(miLista)"
   ]
  }
 ],
 "metadata": {
  "kernelspec": {
   "display_name": "Python 3",
   "language": "python",
   "name": "python3"
  },
  "language_info": {
   "codemirror_mode": {
    "name": "ipython",
    "version": 3
   },
   "file_extension": ".py",
   "mimetype": "text/x-python",
   "name": "python",
   "nbconvert_exporter": "python",
   "pygments_lexer": "ipython3",
   "version": "3.8.3"
  }
 },
 "nbformat": 4,
 "nbformat_minor": 4
}

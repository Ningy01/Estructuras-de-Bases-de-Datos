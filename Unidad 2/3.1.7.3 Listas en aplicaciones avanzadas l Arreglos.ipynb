{
 "cells": [
  {
   "cell_type": "markdown",
   "metadata": {},
   "source": [
    "# 3.1.7.3 Listas en aplicaciones avanzadas | Arreglos\n",
    "\n",
    "#### Saúl Emanuel Favela Hernández"
   ]
  },
  {
   "cell_type": "code",
   "execution_count": 9,
   "metadata": {},
   "outputs": [
    {
     "name": "stdout",
     "output_type": "stream",
     "text": [
      "[['TORRE', '-', '-', '-', '-', '-', '-', 'TORRE'], ['-', '-', '-', '-', '-', '-', '-', '-'], ['-', '-', '-', '-', '-', '-', '-', '-'], ['-', '-', '-', '-', '-', '-', '-', '-'], ['-', '-', '-', '-', '-', '-', '-', '-'], ['-', '-', '-', '-', '-', '-', '-', '-'], ['PEON', 'PEON', 'PEON', 'PEON', '-', '-', '-', '-'], ['TORRE', 'CABALLO', 'ALFIL', 'REY', 'REINA', 'ALFIL', 'CABALLO', 'TORRE']]\n"
     ]
    }
   ],
   "source": [
    "# (Agregar 8 piezas mas al tablero de ajedrez)\n",
    "\n",
    "EMPTY = \"-\"\n",
    "TORRE = \"TORRE\"\n",
    "PEON = \"PEON\"\n",
    "tablero = []\n",
    "\n",
    "for i in range(8):\n",
    "    fila = [EMPTY for i in range(8)]\n",
    "    tablero.append (fila)\n",
    "\n",
    "tablero[0][0] = TORRE\n",
    "tablero[0][7] = TORRE\n",
    "tablero[7][0] = TORRE\n",
    "tablero[7][7] = TORRE\n",
    "\n",
    "tablero[6][0] = PEON\n",
    "tablero[6][1] = PEON\n",
    "tablero[6][2] = PEON\n",
    "tablero[6][3] = PEON\n",
    "tablero[7][1] = \"CABALLO\"\n",
    "tablero[7][2] = \"ALFIL\"\n",
    "tablero[7][3] = \"REY\"\n",
    "tablero[7][4] = \"REINA\"\n",
    "tablero[7][5] = \"ALFIL\"\n",
    "tablero[7][6] = \"CABALLO\"\n",
    "\n",
    "print(tablero)"
   ]
  }
 ],
 "metadata": {
  "kernelspec": {
   "display_name": "Python 3",
   "language": "python",
   "name": "python3"
  },
  "language_info": {
   "codemirror_mode": {
    "name": "ipython",
    "version": 3
   },
   "file_extension": ".py",
   "mimetype": "text/x-python",
   "name": "python",
   "nbconvert_exporter": "python",
   "pygments_lexer": "ipython3",
   "version": "3.8.3"
  }
 },
 "nbformat": 4,
 "nbformat_minor": 4
}
